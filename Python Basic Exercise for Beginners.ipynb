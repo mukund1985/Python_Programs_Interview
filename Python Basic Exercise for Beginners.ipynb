{
 "cells": [
  {
   "cell_type": "markdown",
   "metadata": {},
   "source": [
    "__Question 1: Given a two integer numbers return their product and  if the product is greater than 1000, then return their sum.__"
   ]
  },
  {
   "cell_type": "code",
   "execution_count": 1,
   "metadata": {},
   "outputs": [
    {
     "name": "stdout",
     "output_type": "stream",
     "text": [
      "\n",
      "\n",
      "The result is 600\n"
     ]
    }
   ],
   "source": [
    "def multiplication_or_sum(num1, num2):\n",
    "    product = num1 * num2\n",
    "    if product <=1000:\n",
    "        return product\n",
    "    else:\n",
    "        return num1 + num2\n",
    "    \n",
    "number1 = 20\n",
    "number2 = 30\n",
    "\n",
    "print('\\n')\n",
    "result = multiplication_or_sum(number1,number2)\n",
    "print(\"The result is\", result)"
   ]
  },
  {
   "cell_type": "markdown",
   "metadata": {},
   "source": [
    "__Question 2: Given a range of first 10 numbers, Iterate from start number to the end number and print the sum of the current number and previous number__"
   ]
  },
  {
   "cell_type": "code",
   "execution_count": null,
   "metadata": {},
   "outputs": [],
   "source": []
  }
 ],
 "metadata": {
  "kernelspec": {
   "display_name": "Python 3",
   "language": "python",
   "name": "python3"
  },
  "language_info": {
   "codemirror_mode": {
    "name": "ipython",
    "version": 3
   },
   "file_extension": ".py",
   "mimetype": "text/x-python",
   "name": "python",
   "nbconvert_exporter": "python",
   "pygments_lexer": "ipython3",
   "version": "3.8.3"
  }
 },
 "nbformat": 4,
 "nbformat_minor": 4
}
