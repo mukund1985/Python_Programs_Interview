{
 "cells": [
  {
   "cell_type": "markdown",
   "metadata": {},
   "source": [
    "## Numbers in Right Triangle Shape"
   ]
  },
  {
   "cell_type": "code",
   "execution_count": 3,
   "metadata": {},
   "outputs": [
    {
     "name": "stdout",
     "output_type": "stream",
     "text": [
      "Enter the number of rows: 6\n",
      "1\n",
      "12\n",
      "123\n",
      "1234\n",
      "12345\n",
      "123456\n"
     ]
    }
   ],
   "source": [
    "n = int(input(\"Enter the number of rows: \"))\n",
    "for i in range(1,n+1):\n",
    "    for j in range(1,i+1):\n",
    "        print(j,end='')\n",
    "    print()\n",
    "    "
   ]
  },
  {
   "cell_type": "code",
   "execution_count": 4,
   "metadata": {},
   "outputs": [
    {
     "name": "stdout",
     "output_type": "stream",
     "text": [
      "Enter the number of rows: 7\n",
      "1\n",
      "22\n",
      "333\n",
      "4444\n",
      "55555\n",
      "666666\n",
      "7777777\n"
     ]
    }
   ],
   "source": [
    "n = int(input(\"Enter the number of rows: \"))\n",
    "for i in range(1,n+1):\n",
    "    for j in range(1,i+1):\n",
    "        print(i,end='')\n",
    "    print()"
   ]
  },
  {
   "cell_type": "markdown",
   "metadata": {},
   "source": [
    "## Stars in Hollow Right Triangle Shape - Left Down"
   ]
  },
  {
   "cell_type": "code",
   "execution_count": 32,
   "metadata": {},
   "outputs": [
    {
     "name": "stdout",
     "output_type": "stream",
     "text": [
      "Enter the number of rows:10\n",
      "*         \n",
      "**        \n",
      "* *       \n",
      "*  *      \n",
      "*   *     \n",
      "*    *    \n",
      "*     *   \n",
      "*      *  \n",
      "*       * \n",
      "**********\n"
     ]
    }
   ],
   "source": [
    "n = int(input(\"Enter the number of rows:\"))\n",
    "\n",
    "# Because rows and columns are going to same, so this is why both range is going 0 to n\n",
    "for row in range(n):\n",
    "    for col in range(n):\n",
    "        if col==0 or row==(n-1) or row==col:\n",
    "            print(\"*\",end=\"\")\n",
    "        else:\n",
    "            print(end=\" \")\n",
    "            \n",
    "    print()"
   ]
  },
  {
   "cell_type": "code",
   "execution_count": 27,
   "metadata": {},
   "outputs": [
    {
     "name": "stdout",
     "output_type": "stream",
     "text": [
      "Enter the number of rows:10\n",
      "*        *\n",
      "**       *\n",
      "* *      *\n",
      "*  *     *\n",
      "*   *    *\n",
      "*    *   *\n",
      "*     *  *\n",
      "*      * *\n",
      "*       **\n",
      "*        *\n"
     ]
    }
   ],
   "source": [
    "n = int(input(\"Enter the number of rows:\"))\n",
    "\n",
    "# Because rows and columns are going to same, so this is why both range is going 0 to n\n",
    "for row in range(n):\n",
    "    for col in range(n):\n",
    "        if col==0 or col==(n-1) or row==col:\n",
    "            print(\"*\",end=\"\")\n",
    "        else:\n",
    "            print(end=\" \")\n",
    "            \n",
    "    print()"
   ]
  },
  {
   "cell_type": "markdown",
   "metadata": {},
   "source": [
    "## Stars in Hollow Right Triangle Shape - Right Up"
   ]
  },
  {
   "cell_type": "code",
   "execution_count": 35,
   "metadata": {},
   "outputs": [
    {
     "name": "stdout",
     "output_type": "stream",
     "text": [
      "Enter the number of rows:10\n",
      "**********\n",
      " *       *\n",
      "  *      *\n",
      "   *     *\n",
      "    *    *\n",
      "     *   *\n",
      "      *  *\n",
      "       * *\n",
      "        **\n",
      "         *\n"
     ]
    }
   ],
   "source": [
    "n = int(input(\"Enter the number of rows:\"))\n",
    "\n",
    "# Because rows and columns are going to same, so this is why both range is going 0 to n\n",
    "for row in range(n):\n",
    "    for col in range(n):\n",
    "        if row==0 or col==(n-1) or row==col:\n",
    "            print(\"*\",end=\"\")\n",
    "        else:\n",
    "            print(end=\" \")\n",
    "            \n",
    "    print()"
   ]
  },
  {
   "cell_type": "markdown",
   "metadata": {},
   "source": [
    "## Printing Numbers in Right Triangle Shape"
   ]
  },
  {
   "cell_type": "code",
   "execution_count": 43,
   "metadata": {},
   "outputs": [
    {
     "name": "stdout",
     "output_type": "stream",
     "text": [
      "Enter the number of rows: 6\n",
      "1\n",
      "23\n",
      "456\n",
      "78910\n",
      "1112131415\n",
      "161718192021\n"
     ]
    }
   ],
   "source": [
    "n = int(input(\"Enter the number of rows: \"))\n",
    "num = 1\n",
    "for row in range(1,n+1): # this is for rows\n",
    "    for col in range(1,row+1): # this is for col\n",
    "        print(num,end='')\n",
    "        num=num+1\n",
    "    print()"
   ]
  },
  {
   "cell_type": "markdown",
   "metadata": {},
   "source": [
    "## Printing Strings in Right Triangle Shape"
   ]
  },
  {
   "cell_type": "code",
   "execution_count": 50,
   "metadata": {},
   "outputs": [
    {
     "name": "stdout",
     "output_type": "stream",
     "text": [
      "Enter the string: python\n",
      "p\n",
      "py\n",
      "pyt\n",
      "pyth\n",
      "pytho\n",
      "python\n"
     ]
    }
   ],
   "source": [
    "string = input(\"Enter the string: \")\n",
    "length = len(string)\n",
    "for row in range(length):\n",
    "    for col in range(row+1):\n",
    "        print(string[col],end=\"\")\n",
    "    print()"
   ]
  },
  {
   "cell_type": "code",
   "execution_count": null,
   "metadata": {},
   "outputs": [],
   "source": []
  }
 ],
 "metadata": {
  "kernelspec": {
   "display_name": "Python 3",
   "language": "python",
   "name": "python3"
  },
  "language_info": {
   "codemirror_mode": {
    "name": "ipython",
    "version": 3
   },
   "file_extension": ".py",
   "mimetype": "text/x-python",
   "name": "python",
   "nbconvert_exporter": "python",
   "pygments_lexer": "ipython3",
   "version": "3.8.3"
  }
 },
 "nbformat": 4,
 "nbformat_minor": 4
}
