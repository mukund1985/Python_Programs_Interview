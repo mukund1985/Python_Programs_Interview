{
 "cells": [
  {
   "cell_type": "markdown",
   "metadata": {},
   "source": [
    "Armstrong number is a number that is equal to the sum of cubes of its digits. Basically number of __n__ digits which are equal to sum of __nth__ power of its __digits.__\n",
    "\n",
    "__For example:__ 0, 1, 153, 370, 371 and 407 are the Armstrong numbers.\n",
    "\n",
    "Suppose number 5 - \n",
    "\n",
    " - Its digit is 1 so n = 1.\n",
    " - We need to find out nth power of its digit - 5 power of 1 is 5. \n",
    " - So this is Armstrong Number as it is equal to its actual number. \n",
    " - 0,1,2,3,4,5,6 are Armstrong Number. \n",
    " \n",
    "Suppose number 22 - \n",
    "\n",
    " - Its digit is 2 so n = 2.\n",
    " - Nth Power of its digit - 2 power of 2 = 4 and again 2 power of 2 = 4.\n",
    " - Sum of __nth__ power of its __digits__ = 4 + 4 = 8.\n",
    " - Now 8 is not equal to the actual number i.e. 22.\n",
    " - So 22 is not an armstrong number. \n",
    " \n",
    "Suppose number 153 - \n",
    "\n",
    " - Its digit is 3 so n = 3\n",
    " - Nth Power its digit - 1 power 3 = 1 and 5 power 3 = 125 and 3 power 3 = 27\n",
    " - Sum of __nth__ power of its __digits__ = 1 + 125 + 27 =  153.\n",
    " - So 153 is equal to the actual number i.e. 153. \n",
    " - So 153 is an armstrong number. "
   ]
  },
  {
   "cell_type": "code",
   "execution_count": 1,
   "metadata": {},
   "outputs": [
    {
     "name": "stdout",
     "output_type": "stream",
     "text": [
      "0\n",
      "1\n",
      "2\n",
      "3\n",
      "4\n",
      "5\n",
      "6\n",
      "7\n",
      "8\n",
      "9\n",
      "153\n",
      "370\n",
      "371\n",
      "407\n"
     ]
    }
   ],
   "source": [
    "for i in range(1001):\n",
    "    num = i\n",
    "    result = 0\n",
    "    n = len(str(i))\n",
    "    while(i!=0):\n",
    "        digit=i%10\n",
    "        result = result + digit**n\n",
    "        i=i//10\n",
    "        \n",
    "    if num == result:\n",
    "        print(num)\n",
    "    "
   ]
  },
  {
   "cell_type": "code",
   "execution_count": 6,
   "metadata": {},
   "outputs": [
    {
     "name": "stdout",
     "output_type": "stream",
     "text": [
      "Please enter number: 1001\n",
      "0\n",
      "1\n",
      "2\n",
      "3\n",
      "4\n",
      "5\n",
      "6\n",
      "7\n",
      "8\n",
      "9\n",
      "153\n",
      "370\n",
      "371\n",
      "407\n"
     ]
    }
   ],
   "source": [
    "input_var = int(input(\"Please enter number: \"))\n",
    "for i in range(input_var):\n",
    "    num = i\n",
    "    result = 0\n",
    "    n = len(str(i))\n",
    "    while(i!=0):\n",
    "        digit=i%10\n",
    "        result = result + digit**n\n",
    "        i=i//10\n",
    "        \n",
    "    if num == result:\n",
    "        print(num)\n",
    "    "
   ]
  }
 ],
 "metadata": {
  "kernelspec": {
   "display_name": "Python 3",
   "language": "python",
   "name": "python3"
  },
  "language_info": {
   "codemirror_mode": {
    "name": "ipython",
    "version": 3
   },
   "file_extension": ".py",
   "mimetype": "text/x-python",
   "name": "python",
   "nbconvert_exporter": "python",
   "pygments_lexer": "ipython3",
   "version": "3.8.3"
  }
 },
 "nbformat": 4,
 "nbformat_minor": 4
}
